{
 "cells": [
  {
   "cell_type": "markdown",
   "id": "3ca02835-b12d-4e53-867f-4e66230c4071",
   "metadata": {},
   "source": [
    "# Analisis de la metrica RTT utilizando el comando Ping"
   ]
  },
  {
   "cell_type": "markdown",
   "id": "2397ac0b-edbf-4e06-8038-807be5f98361",
   "metadata": {},
   "source": [
    "## Objetivo \n",
    "\n",
    "Analizar los tiempos de respuesta de un host durante una ventana de tiempo de 2 horas."
   ]
  },
  {
   "cell_type": "markdown",
   "id": "f32115f0-5bd2-4d03-a60b-f2b718b4b32a",
   "metadata": {},
   "source": [
    "## Procedimiento\n",
    "\n",
    "Se utilizara jupyter notebook para ejecutar un script de python. El cual mediante el uso de un Thead dejará corriendo el comando ping durante el tiempo estipulado en el objetivo y su salida quedará registrada en un archivo `.txt`. \n",
    "\n",
    "Luego se procesará dicho archivo extrayendo en cada linea el RTT de cada ejecucion del comando. \n",
    "\n",
    "Finalmente los tiempos obtenidos serán graficados en un histograma en escala lineal y otro en escala logaritmo-logaritmo"
   ]
  },
  {
   "cell_type": "code",
   "execution_count": 1,
   "id": "64123c51",
   "metadata": {},
   "outputs": [],
   "source": [
    "import matplotlib.pyplot as plt\n",
    "plt.rcParams['figure.figsize'] = [14, 8]\n",
    "import re\n",
    "import os\n",
    "import subprocess\n",
    "from threading import Thread, Event \n",
    "import time"
   ]
  },
  {
   "cell_type": "code",
   "execution_count": 2,
   "id": "77c6c442",
   "metadata": {},
   "outputs": [],
   "source": [
    "HOST = 'mercadolibre.com.ar'\n",
    "TOTAL_DURATION = 7200 # 2 horas en segundos\n",
    "OUTPUT_FILE = 'results.txt'"
   ]
  },
  {
   "cell_type": "code",
   "execution_count": 3,
   "id": "27fb7e2a",
   "metadata": {},
   "outputs": [],
   "source": [
    "start_time = time.time()\n",
    "end_time = start_time + TOTAL_DURATION"
   ]
  },
  {
   "cell_type": "code",
   "execution_count": 4,
   "id": "551d508a",
   "metadata": {},
   "outputs": [],
   "source": [
    "def run_ping(event: Event):\n",
    "    out = open(OUTPUT_FILE, 'a')\n",
    "    subprocess.call(['ping', HOST], stdout = out)\n",
    "    "
   ]
  },
  {
   "cell_type": "code",
   "execution_count": 5,
   "id": "142c4c63",
   "metadata": {},
   "outputs": [],
   "source": [
    "terminate_thread = Event()\n",
    "ping_thread = Thread(target=run_ping, args=(terminate_thread,))\n",
    "ping_thread.start()"
   ]
  },
  {
   "cell_type": "code",
   "execution_count": 6,
   "id": "75f784f8",
   "metadata": {},
   "outputs": [],
   "source": [
    "try:\n",
    "    while time.time() < end_time:\n",
    "        pass\n",
    "    terminate_thread.set()\n",
    "except KeyboardInterrupt:\n",
    "    terminate_thread.set()"
   ]
  },
  {
   "cell_type": "code",
   "execution_count": 7,
   "id": "1ee3641b",
   "metadata": {},
   "outputs": [],
   "source": [
    "times = []\n",
    "\n",
    "time_ping_pattern = r\"time=(\\d+\\.\\d+) ms\"\n",
    "\n",
    "with open(OUTPUT_FILE, 'r') as results:\n",
    "    for line in results:\n",
    "        match = re.findall(time_ping_pattern, line)\n",
    "        if match:\n",
    "            times.extend(map(float, match))"
   ]
  },
  {
   "cell_type": "markdown",
   "id": "83973221-7706-4a66-9f8e-f12870795c77",
   "metadata": {},
   "source": [
    "## Histograma en escala lineal\n",
    "\n",
    "En el siguiente histograma se agruparan los tiempos segun su cantidad de ocurrencias y estarán divididos en 1000 grupos."
   ]
  },
  {
   "cell_type": "code",
   "execution_count": 10,
   "id": "3f464729",
   "metadata": {},
   "outputs": [
    {
     "data": {
      "image/png": "[encoded data removed]",
      "text/plain": [
       "<Figure size 1008x576 with 1 Axes>"
      ]
     },
     "metadata": {
      "needs_background": "light"
     },
     "output_type": "display_data"
    }
   ],
   "source": [
    "plt.hist(times, bins=1000)\n",
    "plt.xlabel('Tiempo (ms)')\n",
    "plt.ylabel('Frecuencia')\n",
    "plt.title('Histograma de Tiempos de Ping')\n",
    "plt.show()"
   ]
  },
  {
   "cell_type": "markdown",
   "id": "b1b2e791-3e8b-4a72-bf1b-f835725473c6",
   "metadata": {},
   "source": [
    "## Histograma en escala logaritmica\n",
    "\n",
    "En el siguiente histograma se agruparan los tiempos segun su cantidad de ocurrencias y estarán divididos en 1000 grupos."
   ]
  },
  {
   "cell_type": "code",
   "execution_count": 11,
   "id": "0c0781ca-ea63-4366-8afa-45f82ebb5d87",
   "metadata": {},
   "outputs": [
    {
     "data": {
      "image/png": "[encoded data removed]",
      "text/plain": [
       "<Figure size 1008x576 with 1 Axes>"
      ]
     },
     "metadata": {
      "needs_background": "light"
     },
     "output_type": "display_data"
    }
   ],
   "source": [
    "plt.hist(times, bins=1000, edgecolor='k')\n",
    "\n",
    "plt.xlabel('Tiempo (ms)')\n",
    "plt.ylabel('Densidad')\n",
    "plt.xscale('log')\n",
    "plt.yscale('log')\n",
    "plt.title('Histograma de Tiempos de Ping (Escala Logarítmica)')\n",
    "\n",
    "plt.gca().yaxis.set_major_formatter(plt.ScalarFormatter())\n",
    "\n",
    "plt.show()"
   ]
  },
  {
   "cell_type": "markdown",
   "id": "4960ca65-4d6b-4ac6-ab54-00ffe7e8a5b4",
   "metadata": {},
   "source": [
    "## Tail de la ejecucion ping\n",
    "\n",
    "Se muestran metricas generales de la ejecucion\n",
    "\n",
    "```text\n",
    "--- mercadolibre.com.ar ping statistics ---\n",
    "7224 packets transmitted, 7203 packets received, 0.3% packet loss\n",
    "round-trip min/avg/max/stddev = 3.816/10.065/315.841/11.526 ms\n",
    "```"
   ]
  },
  {
   "cell_type": "markdown",
   "id": "36e031a4-78e0-4fea-a01f-03e909c8dc9b",
   "metadata": {},
   "source": [
    "## Analisis de Resultados\n",
    "\n",
    "Es importante mencionar que la prueba fue realizada desde Buenos Aires, Argentina y el host con el que se realizo la prueba es `mercadolibre.com.ar` \n",
    "El tiempo de respuesta medio fue de 10.065 ms y en ambos graficos se puede observar que hay dos picos uno en torno a los 5ms y otro cercano a los 12ms siendo el grafico en escala logaritmica el que mejor muestra esto.\n",
    "Se pueden observar un 0.3% de paquetes perdidos sobre un total de 7224 enviados durante 2 horas.\n",
    "\n",
    "Los dos picos pueden explicarse por latencias propias de la red para un determinado momento, como el comando ping fue ejecutado durante 2 horas la latecia de la red no tiene porque haberse matenido constante y eso puede haber afectado al tiempo de viaje de los paquetes enviados. \n",
    "A su vez, otro componente que podria haber afectado a los tiempos de respuesta es el enrutamiento, no necesariamente el 100% de los pings fueron resueltos en el mismo servidor realizando el mismo camino de un host al otro.\n",
    "\n",
    "Ademas tambien se puede mencionar que gracias al grafico locaritmico quedan en evidencia algunos tiempos de respuesta por encima de los 100ms aunque son estos una excepción a la regla porque la media de la muesta es de 10.065 con una desviacion estandar de 11.526."
   ]
  }
 ],
 "metadata": {
  "kernelspec": {
   "display_name": "Python 3",
   "language": "python",
   "name": "python3"
  },
  "language_info": {
   "codemirror_mode": {
    "name": "ipython",
    "version": 3
   },
   "file_extension": ".py",
   "mimetype": "text/x-python",
   "name": "python",
   "nbconvert_exporter": "python",
   "pygments_lexer": "ipython3",
   "version": "3.8.8"
  }
 },
 "nbformat": 4,
 "nbformat_minor": 5
}
